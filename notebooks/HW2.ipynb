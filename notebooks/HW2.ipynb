{
 "cells": [
  {
   "cell_type": "code",
   "execution_count": 187,
   "id": "575681c0-7129-4696-b477-f786e9449768",
   "metadata": {},
   "outputs": [],
   "source": [
    "# import\n",
    "\n",
    "import wget\n",
    "import pandas as pd\n",
    "import numpy as np\n",
    "import matplotlib.pyplot as plt"
   ]
  },
  {
   "cell_type": "code",
   "execution_count": 11,
   "id": "09dac283-6c03-4120-bcb8-e739ee09261e",
   "metadata": {},
   "outputs": [
    {
     "name": "stdout",
     "output_type": "stream",
     "text": [
      "--2021-09-29 16:09:58--  https://raw.githubusercontent.com/alexeygrigorev/datasets/master/AB_NYC_2019.csv\n",
      "Resolving raw.githubusercontent.com (raw.githubusercontent.com)... 185.199.110.133, 185.199.111.133, 185.199.108.133, ...\n",
      "Connecting to raw.githubusercontent.com (raw.githubusercontent.com)|185.199.110.133|:443... connected.\n",
      "HTTP request sent, awaiting response... 200 OK\n",
      "Length: 7077973 (6.8M) [text/plain]\n",
      "Saving to: ‘/Volumes/Elements/Hackathons/ML-zoomcamp/data/AB_NYC_2019.csv.1’\n",
      "\n",
      "AB_NYC_2019.csv.1   100%[===================>]   6.75M  4.73MB/s    in 1.4s    \n",
      "\n",
      "2021-09-29 16:09:59 (4.73 MB/s) - ‘/Volumes/Elements/Hackathons/ML-zoomcamp/data/AB_NYC_2019.csv.1’ saved [7077973/7077973]\n",
      "\n"
     ]
    }
   ],
   "source": [
    "# download data\n",
    "\n",
    "!wget -P /Volumes/Elements/Hackathons/ML-zoomcamp/data/ https://raw.githubusercontent.com/alexeygrigorev/datasets/master/AB_NYC_2019.csv"
   ]
  },
  {
   "cell_type": "markdown",
   "id": "c3e26ee9-fc27-4731-9d62-df6cad820ecf",
   "metadata": {},
   "source": [
    "## EDA\n",
    "\n",
    "Load the data.\n",
    "Look at the price variable. Does it have a long tail?"
   ]
  },
  {
   "cell_type": "code",
   "execution_count": 50,
   "id": "60dcf8f4-eef8-4532-83cd-25ac33938276",
   "metadata": {},
   "outputs": [],
   "source": [
    "# load data\n",
    "\n",
    "data = pd.read_csv('../data/AB_NYC_2019.csv')"
   ]
  },
  {
   "cell_type": "code",
   "execution_count": 51,
   "id": "f48e263c-f89a-488e-9e66-d290654f7efb",
   "metadata": {},
   "outputs": [
    {
     "data": {
      "text/html": [
       "<div>\n",
       "<style scoped>\n",
       "    .dataframe tbody tr th:only-of-type {\n",
       "        vertical-align: middle;\n",
       "    }\n",
       "\n",
       "    .dataframe tbody tr th {\n",
       "        vertical-align: top;\n",
       "    }\n",
       "\n",
       "    .dataframe thead th {\n",
       "        text-align: right;\n",
       "    }\n",
       "</style>\n",
       "<table border=\"1\" class=\"dataframe\">\n",
       "  <thead>\n",
       "    <tr style=\"text-align: right;\">\n",
       "      <th></th>\n",
       "      <th>id</th>\n",
       "      <th>name</th>\n",
       "      <th>host_id</th>\n",
       "      <th>host_name</th>\n",
       "      <th>neighbourhood_group</th>\n",
       "      <th>neighbourhood</th>\n",
       "      <th>latitude</th>\n",
       "      <th>longitude</th>\n",
       "      <th>room_type</th>\n",
       "      <th>price</th>\n",
       "      <th>minimum_nights</th>\n",
       "      <th>number_of_reviews</th>\n",
       "      <th>last_review</th>\n",
       "      <th>reviews_per_month</th>\n",
       "      <th>calculated_host_listings_count</th>\n",
       "      <th>availability_365</th>\n",
       "    </tr>\n",
       "  </thead>\n",
       "  <tbody>\n",
       "    <tr>\n",
       "      <th>0</th>\n",
       "      <td>2539</td>\n",
       "      <td>Clean &amp; quiet apt home by the park</td>\n",
       "      <td>2787</td>\n",
       "      <td>John</td>\n",
       "      <td>Brooklyn</td>\n",
       "      <td>Kensington</td>\n",
       "      <td>40.64749</td>\n",
       "      <td>-73.97237</td>\n",
       "      <td>Private room</td>\n",
       "      <td>149</td>\n",
       "      <td>1</td>\n",
       "      <td>9</td>\n",
       "      <td>2018-10-19</td>\n",
       "      <td>0.21</td>\n",
       "      <td>6</td>\n",
       "      <td>365</td>\n",
       "    </tr>\n",
       "    <tr>\n",
       "      <th>1</th>\n",
       "      <td>2595</td>\n",
       "      <td>Skylit Midtown Castle</td>\n",
       "      <td>2845</td>\n",
       "      <td>Jennifer</td>\n",
       "      <td>Manhattan</td>\n",
       "      <td>Midtown</td>\n",
       "      <td>40.75362</td>\n",
       "      <td>-73.98377</td>\n",
       "      <td>Entire home/apt</td>\n",
       "      <td>225</td>\n",
       "      <td>1</td>\n",
       "      <td>45</td>\n",
       "      <td>2019-05-21</td>\n",
       "      <td>0.38</td>\n",
       "      <td>2</td>\n",
       "      <td>355</td>\n",
       "    </tr>\n",
       "    <tr>\n",
       "      <th>2</th>\n",
       "      <td>3647</td>\n",
       "      <td>THE VILLAGE OF HARLEM....NEW YORK !</td>\n",
       "      <td>4632</td>\n",
       "      <td>Elisabeth</td>\n",
       "      <td>Manhattan</td>\n",
       "      <td>Harlem</td>\n",
       "      <td>40.80902</td>\n",
       "      <td>-73.94190</td>\n",
       "      <td>Private room</td>\n",
       "      <td>150</td>\n",
       "      <td>3</td>\n",
       "      <td>0</td>\n",
       "      <td>NaN</td>\n",
       "      <td>NaN</td>\n",
       "      <td>1</td>\n",
       "      <td>365</td>\n",
       "    </tr>\n",
       "    <tr>\n",
       "      <th>3</th>\n",
       "      <td>3831</td>\n",
       "      <td>Cozy Entire Floor of Brownstone</td>\n",
       "      <td>4869</td>\n",
       "      <td>LisaRoxanne</td>\n",
       "      <td>Brooklyn</td>\n",
       "      <td>Clinton Hill</td>\n",
       "      <td>40.68514</td>\n",
       "      <td>-73.95976</td>\n",
       "      <td>Entire home/apt</td>\n",
       "      <td>89</td>\n",
       "      <td>1</td>\n",
       "      <td>270</td>\n",
       "      <td>2019-07-05</td>\n",
       "      <td>4.64</td>\n",
       "      <td>1</td>\n",
       "      <td>194</td>\n",
       "    </tr>\n",
       "    <tr>\n",
       "      <th>4</th>\n",
       "      <td>5022</td>\n",
       "      <td>Entire Apt: Spacious Studio/Loft by central park</td>\n",
       "      <td>7192</td>\n",
       "      <td>Laura</td>\n",
       "      <td>Manhattan</td>\n",
       "      <td>East Harlem</td>\n",
       "      <td>40.79851</td>\n",
       "      <td>-73.94399</td>\n",
       "      <td>Entire home/apt</td>\n",
       "      <td>80</td>\n",
       "      <td>10</td>\n",
       "      <td>9</td>\n",
       "      <td>2018-11-19</td>\n",
       "      <td>0.10</td>\n",
       "      <td>1</td>\n",
       "      <td>0</td>\n",
       "    </tr>\n",
       "  </tbody>\n",
       "</table>\n",
       "</div>"
      ],
      "text/plain": [
       "     id                                              name  host_id  \\\n",
       "0  2539                Clean & quiet apt home by the park     2787   \n",
       "1  2595                             Skylit Midtown Castle     2845   \n",
       "2  3647               THE VILLAGE OF HARLEM....NEW YORK !     4632   \n",
       "3  3831                   Cozy Entire Floor of Brownstone     4869   \n",
       "4  5022  Entire Apt: Spacious Studio/Loft by central park     7192   \n",
       "\n",
       "     host_name neighbourhood_group neighbourhood  latitude  longitude  \\\n",
       "0         John            Brooklyn    Kensington  40.64749  -73.97237   \n",
       "1     Jennifer           Manhattan       Midtown  40.75362  -73.98377   \n",
       "2    Elisabeth           Manhattan        Harlem  40.80902  -73.94190   \n",
       "3  LisaRoxanne            Brooklyn  Clinton Hill  40.68514  -73.95976   \n",
       "4        Laura           Manhattan   East Harlem  40.79851  -73.94399   \n",
       "\n",
       "         room_type  price  minimum_nights  number_of_reviews last_review  \\\n",
       "0     Private room    149               1                  9  2018-10-19   \n",
       "1  Entire home/apt    225               1                 45  2019-05-21   \n",
       "2     Private room    150               3                  0         NaN   \n",
       "3  Entire home/apt     89               1                270  2019-07-05   \n",
       "4  Entire home/apt     80              10                  9  2018-11-19   \n",
       "\n",
       "   reviews_per_month  calculated_host_listings_count  availability_365  \n",
       "0               0.21                               6               365  \n",
       "1               0.38                               2               355  \n",
       "2                NaN                               1               365  \n",
       "3               4.64                               1               194  \n",
       "4               0.10                               1                 0  "
      ]
     },
     "execution_count": 51,
     "metadata": {},
     "output_type": "execute_result"
    }
   ],
   "source": [
    "data.head()"
   ]
  },
  {
   "cell_type": "code",
   "execution_count": 52,
   "id": "d41d0c3d-e9f1-41dc-bcbf-b3d34c1323a1",
   "metadata": {},
   "outputs": [
    {
     "data": {
      "text/plain": [
       "<AxesSubplot:>"
      ]
     },
     "execution_count": 52,
     "metadata": {},
     "output_type": "execute_result"
    },
    {
     "data": {
      "image/png": "[encoded data removed]",
      "text/plain": [
       "<Figure size 432x288 with 1 Axes>"
      ]
     },
     "metadata": {
      "needs_background": "light"
     },
     "output_type": "display_data"
    }
   ],
   "source": [
    "# price variable\n",
    "\n",
    "data['price'].hist(bins=50)"
   ]
  },
  {
   "cell_type": "markdown",
   "id": "693bf9e9-0cc6-4917-8031-a32e5b7641a6",
   "metadata": {},
   "source": [
    "## Features"
   ]
  },
  {
   "cell_type": "code",
   "execution_count": 53,
   "id": "c71d73d7-f061-46bd-9110-6a5076cc8a9d",
   "metadata": {},
   "outputs": [],
   "source": [
    "features = ['latitude','longitude','price',\n",
    "'minimum_nights',\n",
    "'number_of_reviews',\n",
    "'reviews_per_month',\n",
    "'calculated_host_listings_count',\n",
    "'availability_365'\n",
    "]"
   ]
  },
  {
   "cell_type": "code",
   "execution_count": 62,
   "id": "35569e40-5279-4b94-8932-c85583596904",
   "metadata": {},
   "outputs": [],
   "source": [
    "df = data[features]"
   ]
  },
  {
   "cell_type": "markdown",
   "id": "56f05088-5344-4123-b0fb-f7644b86f08b",
   "metadata": {},
   "source": [
    "## Question 1\n",
    "\n",
    "Find a feature with missing values. How many missing values does it have?"
   ]
  },
  {
   "cell_type": "code",
   "execution_count": 22,
   "id": "aac26a2f-f6f5-486a-ae13-e6263e8183f2",
   "metadata": {},
   "outputs": [
    {
     "data": {
      "text/plain": [
       "latitude                              0\n",
       "longitude                             0\n",
       "price                                 0\n",
       "minimum_nights                        0\n",
       "number_of_reviews                     0\n",
       "reviews_per_month                 10052\n",
       "calculated_host_listings_count        0\n",
       "availability_365                      0\n",
       "dtype: int64"
      ]
     },
     "execution_count": 22,
     "metadata": {},
     "output_type": "execute_result"
    }
   ],
   "source": [
    "df.isnull().sum()"
   ]
  },
  {
   "cell_type": "markdown",
   "id": "1cd6b0a9-84d1-45e9-a143-ddfd20726030",
   "metadata": {},
   "source": [
    "## Question 2\n",
    "\n",
    "What's the median (50% percentile) for variable 'minimum_nights'?"
   ]
  },
  {
   "cell_type": "code",
   "execution_count": 23,
   "id": "f640f676-6be3-44ec-922b-47a558847e18",
   "metadata": {},
   "outputs": [
    {
     "data": {
      "text/plain": [
       "3.0"
      ]
     },
     "execution_count": 23,
     "metadata": {},
     "output_type": "execute_result"
    }
   ],
   "source": [
    "df['minimum_nights'].median()"
   ]
  },
  {
   "cell_type": "markdown",
   "id": "9759075e-e649-44f3-b927-4cfddcf8660c",
   "metadata": {},
   "source": [
    "## Split the data\n",
    "\n",
    "Shuffle the initial dataset, use seed 42.\n",
    "Split your data in train/val/test sets, with 60%/20%/20% distribution.\n",
    "Make sure that the target value ('price') is not in your dataframe.\n",
    "Apply the log transformation to the price variable using the np.log1p() function."
   ]
  },
  {
   "cell_type": "code",
   "execution_count": 63,
   "id": "02cdc427-0cc9-4821-8555-60a369bba3b0",
   "metadata": {},
   "outputs": [],
   "source": [
    "# shuffle dataset\n",
    "\n",
    "df = df.sample(frac=1, random_state = 42).reset_index(drop=True)"
   ]
  },
  {
   "cell_type": "code",
   "execution_count": 43,
   "id": "07a0e647-c420-4d13-be3e-ddd09bca3d13",
   "metadata": {},
   "outputs": [],
   "source": [
    "# train-valid-test split\n",
    "\n",
    "n_sample = df.shape[0]\n",
    "train_index = int(0.6 * n_sample)\n",
    "val_index = train_index + int(0.2 * n_sample)\n",
    "test_index = val_index + int(0.2 * n_sample)"
   ]
  },
  {
   "cell_type": "code",
   "execution_count": 71,
   "id": "47b45e3e-39c1-46fe-b059-5b1777de27bd",
   "metadata": {
    "tags": []
   },
   "outputs": [],
   "source": [
    "# target\n",
    "y = df.price.values"
   ]
  },
  {
   "cell_type": "code",
   "execution_count": 93,
   "id": "00141d0a-4642-444d-84ef-7231391d67fe",
   "metadata": {},
   "outputs": [
    {
     "data": {
      "image/png": "[encoded data removed]",
      "text/plain": [
       "<Figure size 432x288 with 1 Axes>"
      ]
     },
     "metadata": {
      "needs_background": "light"
     },
     "output_type": "display_data"
    }
   ],
   "source": [
    "plt.hist(y, bins =20)\n",
    "plt.show()"
   ]
  },
  {
   "cell_type": "code",
   "execution_count": 94,
   "id": "631cd405-ba79-4d0e-898c-9b3173a485b0",
   "metadata": {},
   "outputs": [],
   "source": [
    "# clip values above 1000\n",
    "\n",
    "y1 = [1000 if val > 1000 else val for val in y]"
   ]
  },
  {
   "cell_type": "code",
   "execution_count": 95,
   "id": "49d66261-9bca-4f3a-9088-6d47d54b61ed",
   "metadata": {},
   "outputs": [
    {
     "data": {
      "image/png": "[encoded data removed]",
      "text/plain": [
       "<Figure size 432x288 with 1 Axes>"
      ]
     },
     "metadata": {
      "needs_background": "light"
     },
     "output_type": "display_data"
    }
   ],
   "source": [
    "# log transformation\n",
    "\n",
    "y1_ = np.log1p(y1)\n",
    "plt.hist(y1_, bins=20)\n",
    "plt.show()"
   ]
  },
  {
   "cell_type": "code",
   "execution_count": 58,
   "id": "80445395-0617-4dc0-93cf-06ee343a2611",
   "metadata": {},
   "outputs": [],
   "source": [
    "del df['price']"
   ]
  },
  {
   "cell_type": "code",
   "execution_count": 185,
   "id": "208c5726-831c-4970-9b4d-d936998ed6c3",
   "metadata": {},
   "outputs": [],
   "source": [
    "for idx in [train_index, val_index, test_index]:\n",
    "    \n",
    "    X_train, y_train = df.iloc[:train_index], y1_[:train_index]\n",
    "    X_val, y_val = df.iloc[train_index:val_index], y1_[train_index:val_index]\n",
    "    X_test, y_test = df.iloc[val_index:test_index], y1_[val_index:test_index]"
   ]
  },
  {
   "cell_type": "code",
   "execution_count": 143,
   "id": "0d4d9c0e-d5d1-4e1b-8c06-0d73d7508d1d",
   "metadata": {},
   "outputs": [
    {
     "data": {
      "text/plain": [
       "48895"
      ]
     },
     "execution_count": 143,
     "metadata": {},
     "output_type": "execute_result"
    }
   ],
   "source": [
    "len(X_train) + len(X_val)+ len(X_test)"
   ]
  },
  {
   "cell_type": "markdown",
   "id": "ca1f1336-b285-4dc0-84ea-6640d4938553",
   "metadata": {},
   "source": [
    "## Question 3\n",
    "\n",
    "We need to deal with missing values for the column from Q1.\n",
    "We have two options: fill it with 0 or with the mean of this variable.\n",
    "Try both options. For each, train a linear regression model without regularization using the code from the lessons.\n",
    "For computing the mean, use the training only!\n",
    "Use the validation dataset to evaluate the models and compare the RMSE of each option.\n",
    "Round the RMSE scores to 2 decimal digits using round(score, 2)\n",
    "Which option gives better RMSE?"
   ]
  },
  {
   "cell_type": "code",
   "execution_count": 186,
   "id": "cb08ffd4-a89c-4443-905f-d91486918431",
   "metadata": {},
   "outputs": [
    {
     "data": {
      "image/png": "[encoded data removed]",
      "text/plain": [
       "<Figure size 432x288 with 1 Axes>"
      ]
     },
     "metadata": {
      "needs_background": "light"
     },
     "output_type": "display_data"
    }
   ],
   "source": [
    "# How important is reviews_per_month feature to predict price?\n",
    "\n",
    "plt.scatter(X_train['reviews_per_month'], y_train, s = 1, alpha = 0.5)\n",
    "plt.xlabel('Reviews_per_month')\n",
    "plt.ylabel('Price')\n",
    "plt.show()"
   ]
  },
  {
   "cell_type": "code",
   "execution_count": 148,
   "id": "308142f1-b97b-46b5-8a13-9f89758a3bfa",
   "metadata": {},
   "outputs": [
    {
     "name": "stderr",
     "output_type": "stream",
     "text": [
      "/Applications/anaconda3/envs/ml-zoomcamp/lib/python3.8/site-packages/pandas/core/generic.py:6392: SettingWithCopyWarning: \n",
      "A value is trying to be set on a copy of a slice from a DataFrame\n",
      "\n",
      "See the caveats in the documentation: https://pandas.pydata.org/pandas-docs/stable/user_guide/indexing.html#returning-a-view-versus-a-copy\n",
      "  return self._update_inplace(result)\n"
     ]
    }
   ],
   "source": [
    "# fill Nan with 0\n",
    "\n",
    "for X in [X_train, X_val, X_test]:\n",
    "    X['reviews_per_month'].fillna(0, inplace = True)"
   ]
  },
  {
   "cell_type": "code",
   "execution_count": 102,
   "id": "29e64f2f-02ac-4a07-babd-4d0fb1155537",
   "metadata": {},
   "outputs": [],
   "source": [
    "# linear regression\n",
    "\n",
    "def linear_regression(X, y):\n",
    "    \n",
    "    X_ones = np.ones(X.shape[0])\n",
    "    X = np.column_stack((X_ones, X))\n",
    "    \n",
    "    XTX = X.T.dot(X)\n",
    "    XTX_inv = np.linalg.inv(XTX)\n",
    "    \n",
    "    w = XTX_inv.dot(X.T).dot(y)\n",
    "    \n",
    "    return w[0], w[1:]\n",
    "    "
   ]
  },
  {
   "cell_type": "code",
   "execution_count": 149,
   "id": "4bfa3dbf-0469-4b8b-916b-0248b442548d",
   "metadata": {},
   "outputs": [],
   "source": [
    "w0, w = linear_regression(X_train, y_train)"
   ]
  },
  {
   "cell_type": "code",
   "execution_count": 150,
   "id": "4f2ae633-d0b8-45ff-8dd8-743eba8bb598",
   "metadata": {},
   "outputs": [],
   "source": [
    "# validation\n",
    "y_pred = w0 + X_val.dot(w)"
   ]
  },
  {
   "cell_type": "code",
   "execution_count": 118,
   "id": "fbd41a11-9fa2-4742-b09f-e75743520a62",
   "metadata": {},
   "outputs": [],
   "source": [
    "# RMSE\n",
    "\n",
    "def RMSE (y_pred, y_true):\n",
    "    err = y_true - y_pred\n",
    "    squared_err = err**2.\n",
    "    mse = np.mean(squared_err)\n",
    "    rmse = np.sqrt(mse)\n",
    "    \n",
    "    return rmse"
   ]
  },
  {
   "cell_type": "code",
   "execution_count": 157,
   "id": "006dbb5e-a957-4c08-83fd-5141121b0f0b",
   "metadata": {},
   "outputs": [
    {
     "data": {
      "text/plain": [
       "0.53"
      ]
     },
     "execution_count": 157,
     "metadata": {},
     "output_type": "execute_result"
    }
   ],
   "source": [
    "round(RMSE(y_pred, y_val),2)"
   ]
  },
  {
   "cell_type": "code",
   "execution_count": 152,
   "id": "775781ce-a78d-4194-b689-2febdbf17238",
   "metadata": {},
   "outputs": [],
   "source": [
    "# fill Nan with mean value\n",
    "\n",
    "for X in [X_train, X_val, X_test]:\n",
    "    val = X['reviews_per_month'].mean()\n",
    "    X['reviews_per_month'].fillna(val, inplace = True)"
   ]
  },
  {
   "cell_type": "code",
   "execution_count": 153,
   "id": "325e57a0-2c9e-42bb-8c89-d718c2ae5fc4",
   "metadata": {},
   "outputs": [],
   "source": [
    "# linear regression\n",
    "w0, w = linear_regression(X_train, y_train)"
   ]
  },
  {
   "cell_type": "code",
   "execution_count": 154,
   "id": "6394952b-305b-4b00-98c6-796ba55b553d",
   "metadata": {},
   "outputs": [],
   "source": [
    "# validation\n",
    "y_pred = w0 + X_val.dot(w)"
   ]
  },
  {
   "cell_type": "code",
   "execution_count": 156,
   "id": "80e9b83b-4acf-4eef-a71a-4b4838c25495",
   "metadata": {},
   "outputs": [
    {
     "data": {
      "text/plain": [
       "0.53"
      ]
     },
     "execution_count": 156,
     "metadata": {},
     "output_type": "execute_result"
    }
   ],
   "source": [
    "round(RMSE(y_pred, y_val),2)"
   ]
  },
  {
   "cell_type": "markdown",
   "id": "3d81a3a1-4c37-4774-a129-007d05963cbe",
   "metadata": {},
   "source": [
    "Both the methods are equally good as measured using RMSE"
   ]
  },
  {
   "cell_type": "markdown",
   "id": "acdb0488-a725-4970-b505-d4c34f13b9a0",
   "metadata": {},
   "source": [
    "## Question 4\n",
    "\n",
    "Now let's train a regularized linear regression.\n",
    "For this question, fill the NAs with 0.\n",
    "Try different values of r from this list: [0, 0.000001, 0.0001, 0.001, 0.01, 0.1, 1, 5, 10].\n",
    "Use RMSE to evaluate the model on the validation dataset.\n",
    "Round the RMSE scores to 2 decimal digits.\n",
    "Which r gives the best RMSE?\n",
    "If there are multiple options, select the smallest r."
   ]
  },
  {
   "cell_type": "code",
   "execution_count": 158,
   "id": "10d926d3-2862-4f90-940c-34b90ac2c4f8",
   "metadata": {},
   "outputs": [],
   "source": [
    "# regularization parameter\n",
    "r = [0, 1e-6, 1e-4, 1e-3, 1e-2, 0.1, 1, 5, 10]"
   ]
  },
  {
   "cell_type": "code",
   "execution_count": 178,
   "id": "cc36aa20-df9a-48d2-affd-34c32b3363d6",
   "metadata": {},
   "outputs": [],
   "source": [
    "def prepare_X (X, fillna_val, r):\n",
    "    \n",
    "    X['reviews_per_month'].fillna(fillna_val, inplace=True)\n",
    "    X = X + np.eye(N = X.shape[0], M = X.shape[1]) *r\n",
    "    \n",
    "    return X"
   ]
  },
  {
   "cell_type": "code",
   "execution_count": 190,
   "id": "627671c5-d968-4135-8286-52be3040855b",
   "metadata": {},
   "outputs": [
    {
     "name": "stdout",
     "output_type": "stream",
     "text": [
      "r: 0 RMSE: 0.52\n",
      "r: 1e-06 RMSE: 0.52\n",
      "r: 0.0001 RMSE: 0.52\n",
      "r: 0.001 RMSE: 0.52\n",
      "r: 0.01 RMSE: 0.52\n",
      "r: 0.1 RMSE: 0.52\n",
      "r: 1 RMSE: 0.52\n",
      "r: 5 RMSE: 0.54\n",
      "r: 10 RMSE: 0.55\n"
     ]
    }
   ],
   "source": [
    "for val in r:\n",
    "    X_train = prepare_X(X_train, 0, val)\n",
    "    X_val = prepare_X(X_val, 0, val)\n",
    "    \n",
    "    w0, w = linear_regression(X_train, y_train)\n",
    "    y_pred = w0 + X_val.dot(w)\n",
    "    rmse = round(RMSE(y_pred, y_val),2)\n",
    "    \n",
    "    print ('r:', val, 'RMSE:', rmse)\n",
    "    "
   ]
  },
  {
   "cell_type": "markdown",
   "id": "26fb7bf1-b7c0-4c41-a36f-d47f839e59f8",
   "metadata": {
    "tags": []
   },
   "source": [
    "Since for regularization parameters 0 to 0.1, the RMSE score is comparable, the least value is chosen. r =0."
   ]
  },
  {
   "cell_type": "markdown",
   "id": "b192e187-93bb-49b0-9995-7bf2f4929d6d",
   "metadata": {},
   "source": [
    "## Question 5\n",
    "\n",
    "We used seed 42 for splitting the data. Let's find out how selecting the seed influences our score.\n",
    "Try different seed values: [0, 1, 2, 3, 4, 5, 6, 7, 8, 9].\n",
    "For each seed, do the train/validation/test split with 60%/20%/20% distribution.\n",
    "Fill the missing values with 0 and train a model without regularization.\n",
    "For each seed, evaluate the model on the validation dataset and collect the RMSE scores.\n",
    "What's the standard deviation of all the scores? To compute the standard deviation, use np.std.\n",
    "Round the result to 3 decimal digits (round(std, 3))\n"
   ]
  },
  {
   "cell_type": "code",
   "execution_count": 189,
   "id": "95c42f1e-938d-4520-9651-c8bdcb76426e",
   "metadata": {},
   "outputs": [
    {
     "name": "stdout",
     "output_type": "stream",
     "text": [
      "SEED: 0 RMSE: 0.531\n",
      "SEED: 1 RMSE: 0.573\n",
      "SEED: 2 RMSE: 0.532\n",
      "SEED: 3 RMSE: 0.554\n",
      "SEED: 4 RMSE: 0.514\n",
      "SEED: 5 RMSE: 0.51\n",
      "SEED: 6 RMSE: 0.505\n",
      "SEED: 7 RMSE: 0.5\n",
      "SEED: 8 RMSE: 0.556\n",
      "SEED: 9 RMSE: 0.518\n",
      "********************\n",
      "std of rmse: 0.023\n"
     ]
    }
   ],
   "source": [
    "seeds =  [0, 1, 2, 3, 4, 5, 6, 7, 8, 9]\n",
    "scores = []\n",
    "\n",
    "for seed in seeds:\n",
    "    \n",
    "    df = data[features].copy()\n",
    "    \n",
    "    # train test split\n",
    "    df = df.sample(frac=1, random_state = seed).reset_index(drop=True)\n",
    "    n_sample = df.shape[0]\n",
    "    train_index = int(0.6 * n_sample)\n",
    "    val_index = train_index + int(0.2 * n_sample)\n",
    "    test_index = val_index + int(0.2 * n_sample)\n",
    "    \n",
    "    # target\n",
    "    y = df.price.values\n",
    "    y1 = [1000 if val > 1000 else val for val in y]\n",
    "    y1_ = np.log1p(y1)\n",
    "    \n",
    "    for idx in [train_index, val_index, test_index]:\n",
    "        X_train, y_train = df.iloc[:train_index], y1_[:train_index]\n",
    "        X_val, y_val = df.iloc[train_index:val_index], y1_[train_index:val_index]\n",
    "        X_test, y_test = df.iloc[val_index:test_index], y1_[val_index:test_index]\n",
    "        \n",
    "        # fill Nan with 0\n",
    "\n",
    "    for X in [X_train, X_val, X_test]:\n",
    "        X['reviews_per_month'].fillna(0, inplace = True)\n",
    "    \n",
    "    w0, w = linear_regression(X_train, y_train)\n",
    "    \n",
    "    # validation\n",
    "    y_pred = w0 + X_val.dot(w)\n",
    "    \n",
    "    # RMSE\n",
    "    score = round(RMSE(y_pred, y_val),3)\n",
    "    scores.append(score)\n",
    "    \n",
    "    print('SEED:', seed, 'RMSE:',score) \n",
    "\n",
    "print('*'*20)\n",
    "print('std of rmse:',round(np.std(scores),3))\n"
   ]
  },
  {
   "cell_type": "markdown",
   "id": "2bcf4589-0be8-4b10-b846-24460b8ae0a9",
   "metadata": {
    "tags": []
   },
   "source": [
    "## Question 6\n",
    "\n",
    "Split the dataset like previously, use seed 9.\n",
    "Combine train and validation datasets.\n",
    "Fill the missing values with 0 and train a model with r=0.001.\n",
    "What's the RMSE on the test dataset?"
   ]
  },
  {
   "cell_type": "code",
   "execution_count": 193,
   "id": "f3c0275c-9b2b-4745-82cf-cc8582665b9c",
   "metadata": {},
   "outputs": [
    {
     "name": "stdout",
     "output_type": "stream",
     "text": [
      "test score: 0.541\n"
     ]
    }
   ],
   "source": [
    "df = data[features].copy()\n",
    "\n",
    "# train test split\n",
    "seed = 9\n",
    "df = df.sample(frac=1, random_state = seed).reset_index(drop=True)\n",
    "\n",
    "n_sample = df.shape[0]\n",
    "train_index = int(0.8 * n_sample)\n",
    "\n",
    "# target\n",
    "y = df.price.values\n",
    "y1 = [1000 if val > 1000 else val for val in y]\n",
    "y1_ = np.log1p(y1)\n",
    "\n",
    "X_train, y_train = df.iloc[:train_index], y1_[:train_index]\n",
    "X_test, y_test = df.iloc[train_index:], y1_[train_index:]\n",
    "\n",
    "# fill Nan with 0\n",
    "for X in [X_train, X_test]:\n",
    "    X = prepare_X(X,0,1e-3)\n",
    "    \n",
    "w0, w = linear_regression(X_train, y_train)\n",
    "\n",
    "# validation\n",
    "y_pred = w0 + X_test.dot(w)\n",
    "\n",
    "# RMSE\n",
    "score = round(RMSE(y_pred, y_test),3)\n",
    "print('test score:', score)"
   ]
  },
  {
   "cell_type": "code",
   "execution_count": null,
   "id": "b69e4a10-8a2b-4369-840e-76f6bf06ca0c",
   "metadata": {},
   "outputs": [],
   "source": []
  }
 ],
 "metadata": {
  "kernelspec": {
   "display_name": "ml_zoomcamp",
   "language": "python",
   "name": "ml_zoomcamp"
  },
  "language_info": {
   "codemirror_mode": {
    "name": "ipython",
    "version": 3
   },
   "file_extension": ".py",
   "mimetype": "text/x-python",
   "name": "python",
   "nbconvert_exporter": "python",
   "pygments_lexer": "ipython3",
   "version": "3.8.0"
  }
 },
 "nbformat": 4,
 "nbformat_minor": 5
}
